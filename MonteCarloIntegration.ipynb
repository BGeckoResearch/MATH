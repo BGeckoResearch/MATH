{
 "cells": [
  {
   "cell_type": "code",
   "execution_count": null,
   "id": "af5790ab-165b-40df-9745-8b87c463c27c",
   "metadata": {},
   "outputs": [],
   "source": [
    "# Importing Libraries\n",
    "import numpy as np\n",
    "import matplotlib\n",
    "import matplotlib.pyplot as plt"
   ]
  },
  {
   "cell_type": "markdown",
   "id": "cda79ccb-9517-437b-a50f-34fe0b583db7",
   "metadata": {},
   "source": [
    "# Monte Carlo Integration (1 Dimension)"
   ]
  },
  {
   "cell_type": "code",
   "execution_count": null,
   "id": "42104570-1673-4343-8fb1-db8929840a7b",
   "metadata": {},
   "outputs": [],
   "source": [
    "# Creating our function to integrate\n",
    "f = lambda x: x**2  "
   ]
  },
  {
   "cell_type": "code",
   "execution_count": null,
   "id": "080383f7-f2ec-40a9-8ce7-486d5dbb31af",
   "metadata": {},
   "outputs": [],
   "source": [
    "# Value of F(2, 3)\n",
    "integral = 19/3.0"
   ]
  },
  {
   "cell_type": "code",
   "execution_count": null,
   "id": "7720124e-37e3-4479-acb4-9677e454bbd6",
   "metadata": {},
   "outputs": [],
   "source": [
    "# Creating F^{k}(a,b)\n",
    "def F(a, b, f, k):\n",
    "  x = np.random.uniform(a, b, k)\n",
    "  f_avg = (f(x).sum())/ float(k)\n",
    "  return (b-a)* f_avg"
   ]
  },
  {
   "cell_type": "code",
   "execution_count": null,
   "id": "5308288e-5c16-4f92-9c4f-898c517c488c",
   "metadata": {},
   "outputs": [],
   "source": [
    "# Creating a list of domain values (k)\n",
    "domain_k = [i for i in range(100, 100000, 10)]\n",
    "\n",
    "# Creating a list of F^{k}(2, 3) values\n",
    "approx_integ = [F(2, 3, f, i) for i in domain_k]"
   ]
  },
  {
   "cell_type": "code",
   "execution_count": null,
   "id": "901fe4d9-cd2e-4fd7-b089-a89fed466b5e",
   "metadata": {},
   "outputs": [],
   "source": [
    "plt.figure()\n",
    "matplotlib.style.use('ggplot')\n",
    "\n",
    "# Setting the bounds of the y-axis on our plot\n",
    "plt.ylim(integral+.5, integral - .5)\n",
    "\n",
    "# Creating plots\n",
    "plt.plot(domain_k, approx_integ, color = \"lightblue\")  # Plotting F^{k}(2, 3)\n",
    "plt.axhline(integral, color = 'blue', linestyle = '--' )  # Plotting F(2, 3)\n",
    "\n",
    "# Legends, title, and labels\n",
    "plt.legend([\"MCI Estimate $F^{k}(2, 3)$\", f\"Integral Value $F(2, 3)$\"], loc = \"lower center\")\n",
    "plt.title(\"Monte Carlo Integration Convergence of $\\int_{2}^{3} x^{2}dx$\", color = 'blue')\n",
    "plt.xlabel(\"Number of Samples (k)\", color = 'blue')\n",
    "plt.ylabel(\"$F$ & $F^{k}$\", color = 'blue')\n",
    "\n",
    "# Saving the figure (optional)\n",
    "plt.savefig(\"mci_convergence.jpg\")"
   ]
  },
  {
   "cell_type": "markdown",
   "id": "1d8a4774-2790-430b-baa9-47d1fc9c3cd0",
   "metadata": {},
   "source": [
    "# Monte Carlo Integration ( N Dimensions)\n",
    "\n"
   ]
  },
  {
   "cell_type": "code",
   "execution_count": null,
   "id": "26bad13f-0467-485d-8824-980bd059ee20",
   "metadata": {},
   "outputs": [],
   "source": [
    "def compute_volume(G):\n",
    "  vol = 1;\n",
    "  for edge in G:\n",
    "    vol *= (edge[1] - edge[0])\n",
    "  return vol\n",
    "\n",
    "def sample_domain(G, k_samples):\n",
    "  d = len(G)\n",
    "  edge_one = G[0]\n",
    "  component_samples = np.random.uniform(edge_one[0], edge_one[1], k_samples)\n",
    "  for edge in range(1, d):\n",
    "    new_edge = G[edge]\n",
    "    samples = np.random.uniform(new_edge[0], new_edge[1], k_samples)\n",
    "    component_samples = np.vstack((component_samples, samples))\n",
    "  return component_samples.T\n",
    "\n",
    "def compute_integral(f, G, k_samples):\n",
    "  volume = compute_volume(G)\n",
    "  sample_points = sample_domain(G, k_samples)\n",
    "  f_values = []\n",
    "  for point in sample_points:\n",
    "    f_values.append(f(*point))\n",
    "  return volume * np.mean(f_values)\n",
    "\n",
    "\n",
    "\n"
   ]
  }
 ],
 "metadata": {
  "kernelspec": {
   "display_name": "Python [conda env:base] *",
   "language": "python",
   "name": "conda-base-py"
  },
  "language_info": {
   "codemirror_mode": {
    "name": "ipython",
    "version": 3
   },
   "file_extension": ".py",
   "mimetype": "text/x-python",
   "name": "python",
   "nbconvert_exporter": "python",
   "pygments_lexer": "ipython3",
   "version": "3.12.7"
  }
 },
 "nbformat": 4,
 "nbformat_minor": 5
}
